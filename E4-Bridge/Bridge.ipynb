{
 "cells": [
  {
   "cell_type": "markdown",
   "metadata": {},
   "source": [
    "We have 4 members with below times:\n",
    "\n",
    "1 --> 1min\n",
    "\n",
    "2 --> 2min\n",
    "\n",
    "3 --> 5min\n",
    "\n",
    "4 --> 10min"
   ]
  },
  {
   "cell_type": "markdown",
   "metadata": {},
   "source": [
    "Our goal is for these people to cross the bridge before 19 minutes"
   ]
  },
  {
   "cell_type": "markdown",
   "metadata": {},
   "source": [
    "The general role is that:\n",
    "\n",
    "The lowest together, the highest together"
   ]
  },
  {
   "cell_type": "code",
   "execution_count": null,
   "metadata": {
    "vscode": {
     "languageId": "plaintext"
    }
   },
   "outputs": [],
   "source": [
    "step1: 1 and 2\n",
    "// 2 minutes\n",
    "step2: 1 \n",
    "// 1 must comeback because is faster\n",
    "step3: 5 and 10\n",
    "// 10 minutes\n",
    "step4: 2\n",
    "// 2 because it's faster that the others\n",
    "step5: 1 and 2\n",
    "// 2 minutes"
   ]
  }
 ],
 "metadata": {
  "language_info": {
   "name": "python"
  }
 },
 "nbformat": 4,
 "nbformat_minor": 2
}

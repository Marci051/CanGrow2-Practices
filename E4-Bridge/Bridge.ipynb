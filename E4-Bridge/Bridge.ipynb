{
 "cells": [
  {
   "cell_type": "markdown",
   "metadata": {},
   "source": [
    "We have 4 members with below times:\n",
    "\n",
    "1 --> 1min\n",
    "\n",
    "2 --> 2min\n",
    "\n",
    "3 --> 5min\n",
    "\n",
    "4 --> 10min"
   ]
  },
  {
   "cell_type": "markdown",
   "metadata": {},
   "source": [
    "Our goal is for these people to cross the bridge before 19 minutes"
   ]
  },
  {
   "cell_type": "code",
   "execution_count": null,
   "metadata": {
    "vscode": {
     "languageId": "plaintext"
    }
   },
   "outputs": [],
   "source": [
    "step1: 1 and 2\n",
    "step2: 1 \n",
    "step3: 5 and 10\n",
    "step4: 2\n",
    "step5: 1 and 2\n"
   ]
  }
 ],
 "metadata": {
  "language_info": {
   "name": "python"
  }
 },
 "nbformat": 4,
 "nbformat_minor": 2
}
